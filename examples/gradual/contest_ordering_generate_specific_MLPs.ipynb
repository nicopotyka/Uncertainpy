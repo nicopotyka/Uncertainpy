{
 "cells": [
  {
   "cell_type": "markdown",
   "source": [
    "# This ipynb generates MLP-like QBAFs"
   ],
   "metadata": {
    "collapsed": false
   }
  },
  {
   "cell_type": "code",
   "execution_count": 1,
   "outputs": [],
   "source": [
    "import random\n",
    "random.seed(1)\n",
    "import sys\n",
    "sys.path.append(\"../../src/\")\n",
    "import uncertainpy.gradual as grad\n",
    "import numpy as np\n",
    "from tqdm import tqdm\n",
    "import time"
   ],
   "metadata": {
    "collapsed": false
   }
  },
  {
   "cell_type": "code",
   "execution_count": 2,
   "outputs": [],
   "source": [
    "def generate_random_mlp_graph(layer_sizes, connection_prob):\n",
    "    \"\"\"\n",
    "    generate a random MLP-like QBAF structure, represented by DAG\n",
    "\n",
    "    parameter:\n",
    "    - connection_prob: The probability of inter-layer connections (1.0 = fully connected, 0.0 = no connections)\n",
    "\n",
    "    return:\n",
    "    - graph: MLP structure in adjacent list (DAG)\n",
    "    \"\"\"\n",
    "\n",
    "    graph = {}  # Store the DAG using an adjacency list\n",
    "    node_id = 0  # neuron ID\n",
    "    layer_nodes = []  # Record the neuron IDs in each layer\n",
    "\n",
    "    # Create neuron nodes\n",
    "    for size in layer_sizes:\n",
    "        layer = [node_id + i for i in range(size)]\n",
    "        layer_nodes.append(layer)\n",
    "        node_id += size\n",
    "\n",
    "    # Generate inter-layer connections\n",
    "    for i in range(len(layer_nodes) - 1):  # Layer-by-layer connection\n",
    "        for src in layer_nodes[i]:  # Current layer neurons\n",
    "            for dst in layer_nodes[i+1]:  # Next layer neurons\n",
    "                if random.uniform(0, 1) < connection_prob:\n",
    "                    graph.setdefault(src, set()).add(dst)\n",
    "\n",
    "    # if node not in graph, add empty set\n",
    "    for layer in layer_nodes:\n",
    "        for node in layer:\n",
    "            graph.setdefault(node, set())\n",
    "\n",
    "    return graph"
   ],
   "metadata": {
    "collapsed": false
   }
  },
  {
   "cell_type": "code",
   "execution_count": 3,
   "outputs": [],
   "source": [
    "def get_layer_nodes(layer_sizes, layer_index=None):\n",
    "    node_id = 0\n",
    "    for i, size in enumerate(layer_sizes):\n",
    "        if i == layer_index:\n",
    "            return [str(n) for n in range(node_id, node_id + size)]\n",
    "        node_id += size\n",
    "\n",
    "    raise ValueError(f\"Invalid layer_index {layer_index}: must be between 0 and {len(layer_sizes) - 1}\")\n",
    "\n",
    "# preferred_order = get_layer_nodes(layer_sizes, len(layer_sizes)-1)"
   ],
   "metadata": {
    "collapsed": false
   }
  },
  {
   "cell_type": "code",
   "execution_count": 4,
   "outputs": [],
   "source": [
    "# generate a random MLP-QBAF and output to a file\n",
    "def generate_and_write_graph(filename, layer_sizes, connection_prob):\n",
    "    with open(filename, 'w') as f:\n",
    "        sys.stdout = f\n",
    "\n",
    "        # generate the node and edge of a graph\n",
    "        random_graph = generate_random_mlp_graph(layer_sizes, connection_prob)\n",
    "\n",
    "        L0 = get_layer_nodes(layer_sizes, len(layer_sizes)-1)\n",
    "        L1 = get_layer_nodes(layer_sizes, len(layer_sizes)-2)\n",
    "        L2 = get_layer_nodes(layer_sizes, len(layer_sizes)-3)\n",
    "        L3 = get_layer_nodes(layer_sizes, len(layer_sizes)-4)\n",
    "        if len(layer_sizes)>=5:\n",
    "            L4 = get_layer_nodes(layer_sizes, len(layer_sizes)-5)\n",
    "            L4 = list(map(int, L4))\n",
    "        L0 = list(map(int, L0))\n",
    "        L1 = list(map(int, L1))\n",
    "        L2 = list(map(int, L2))\n",
    "        L3 = list(map(int, L3))\n",
    "\n",
    "\n",
    "        # generate random base scores for arguments\n",
    "        for node, edges in random_graph.items():\n",
    "            # print(node)\n",
    "            if node in L1:\n",
    "                random_float = round(random.uniform(0.0, 0.1),2)\n",
    "            else:\n",
    "                random_float = round(random.uniform(0.0, 1.0),2)\n",
    "            print(f\"arg({node}, {random_float}).\")\n",
    "\n",
    "        # generate random polarity for edges\n",
    "        for node, edges in random_graph.items():\n",
    "            for edge in edges:\n",
    "\n",
    "                if edge in L1:\n",
    "                    random_boolean = True\n",
    "                elif edge in L2:\n",
    "                    random_boolean = False\n",
    "                else:\n",
    "                    random_boolean = random.choice([True, False])\n",
    "                if random_boolean:\n",
    "                    print(f\"att({node}, {edge}).\")\n",
    "                else:\n",
    "                    print(f\"sup({node}, {edge}).\")\n",
    "\n",
    "    sys.stdout = sys.__stdout__"
   ],
   "metadata": {
    "collapsed": false
   }
  },
  {
   "cell_type": "code",
   "execution_count": 5,
   "outputs": [
    {
     "name": "stdout",
     "output_type": "stream",
     "text": [
      "MLP structure: [8, 8, 8, 3]\n"
     ]
    }
   ],
   "source": [
    "# set generation parameters\n",
    "connection_prob=1.0\n",
    "layer_sizes = [8,8,8,3]\n",
    "mlp_graph = generate_random_mlp_graph(layer_sizes, connection_prob)\n",
    "\n",
    "print(\"MLP structure:\", layer_sizes)"
   ],
   "metadata": {
    "collapsed": false
   }
  },
  {
   "cell_type": "code",
   "execution_count": 6,
   "outputs": [
    {
     "data": {
      "text/plain": "{0: {8, 9, 10, 11, 12, 13, 14, 15},\n 1: {8, 9, 10, 11, 12, 13, 14, 15},\n 2: {8, 9, 10, 11, 12, 13, 14, 15},\n 3: {8, 9, 10, 11, 12, 13, 14, 15},\n 4: {8, 9, 10, 11, 12, 13, 14, 15},\n 5: {8, 9, 10, 11, 12, 13, 14, 15},\n 6: {8, 9, 10, 11, 12, 13, 14, 15},\n 7: {8, 9, 10, 11, 12, 13, 14, 15},\n 8: {16, 17, 18, 19, 20, 21, 22, 23},\n 9: {16, 17, 18, 19, 20, 21, 22, 23},\n 10: {16, 17, 18, 19, 20, 21, 22, 23},\n 11: {16, 17, 18, 19, 20, 21, 22, 23},\n 12: {16, 17, 18, 19, 20, 21, 22, 23},\n 13: {16, 17, 18, 19, 20, 21, 22, 23},\n 14: {16, 17, 18, 19, 20, 21, 22, 23},\n 15: {16, 17, 18, 19, 20, 21, 22, 23},\n 16: {24, 25, 26},\n 17: {24, 25, 26},\n 18: {24, 25, 26},\n 19: {24, 25, 26},\n 20: {24, 25, 26},\n 21: {24, 25, 26},\n 22: {24, 25, 26},\n 23: {24, 25, 26},\n 24: set(),\n 25: set(),\n 26: set()}"
     },
     "execution_count": 6,
     "metadata": {},
     "output_type": "execute_result"
    }
   ],
   "source": [
    "mlp_graph"
   ],
   "metadata": {
    "collapsed": false
   }
  },
  {
   "cell_type": "code",
   "execution_count": 7,
   "outputs": [],
   "source": [
    "N = 100 # generate N QBAFs storing in N files\n",
    "for i in range(N):\n",
    "    filename = f'../../bags/mlp_{i}.bag'\n",
    "    generate_and_write_graph(filename, layer_sizes, connection_prob)"
   ],
   "metadata": {
    "collapsed": false
   }
  }
 ],
 "metadata": {
  "kernelspec": {
   "display_name": "Python 3",
   "language": "python",
   "name": "python3"
  },
  "language_info": {
   "codemirror_mode": {
    "name": "ipython",
    "version": 2
   },
   "file_extension": ".py",
   "mimetype": "text/x-python",
   "name": "python",
   "nbconvert_exporter": "python",
   "pygments_lexer": "ipython2",
   "version": "2.7.6"
  }
 },
 "nbformat": 4,
 "nbformat_minor": 0
}
