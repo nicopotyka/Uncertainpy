{
 "cells": [
  {
   "cell_type": "code",
   "execution_count": 50,
   "metadata": {
    "collapsed": true
   },
   "outputs": [],
   "source": [
    "import random\n",
    "\n",
    "# set random seed\n",
    "random.seed(1)"
   ]
  },
  {
   "cell_type": "code",
   "execution_count": 51,
   "outputs": [],
   "source": [
    "def generate_random_mlp_graph(layer_sizes, connection_prob):\n",
    "    \"\"\"\n",
    "    生成一个随机的 MLP 结构，并用 DAG（邻接表）表示。\n",
    "\n",
    "    参数:\n",
    "    - input_dim: 输入层神经元数\n",
    "    - output_dim: 输出层神经元数\n",
    "\n",
    "    - min_units, max_units: 每层神经元数的范围\n",
    "    - connection_prob: 层间连接的概率 (1.0 = 全连接, 0.0 = 无连接)\n",
    "\n",
    "    返回:\n",
    "    - layers: 包含每层神经元数量的列表\n",
    "    - graph: 邻接表表示的 MLP 结构 (DAG)\n",
    "    \"\"\"\n",
    "\n",
    "    # layer_sizes = [input_dim] + [random.randint(min_units, max_units) for _ in range(num_hidden_layer)] + [output_dim]\n",
    "\n",
    "    graph = {}  # 用邻接表存储 DAG\n",
    "    node_id = 0  # 神经元全局 ID\n",
    "    layer_nodes = []  # 记录每层的神经元 ID\n",
    "\n",
    "    # 创建神经元节点\n",
    "    for size in layer_sizes:\n",
    "        layer = [node_id + i for i in range(size)]\n",
    "        layer_nodes.append(layer)\n",
    "        node_id += size\n",
    "\n",
    "    # 生成层间连接\n",
    "    for i in range(len(layer_nodes) - 1):  # 逐层连接\n",
    "        for src in layer_nodes[i]:  # 当前层神经元\n",
    "            for dst in layer_nodes[i+1]:  # 下一层神经元\n",
    "                if random.uniform(0, 1) < connection_prob:\n",
    "                    graph.setdefault(src, set()).add(dst)\n",
    "\n",
    "    # if node not in graph, add empty set\n",
    "    for layer in layer_nodes:\n",
    "        for node in layer:\n",
    "            graph.setdefault(node, set())\n",
    "\n",
    "    return graph"
   ],
   "metadata": {
    "collapsed": false
   }
  },
  {
   "cell_type": "code",
   "execution_count": 52,
   "outputs": [],
   "source": [
    "# generate random MLP graph\n",
    "def generate_graph(num_nodes, p):\n",
    "\n",
    "    # initialise\n",
    "    graph = {node: set() for node in range(num_nodes)}\n",
    "    all_edges = []\n",
    "\n",
    "    # generate possible edges with probability p\n",
    "    for i in range(num_nodes):\n",
    "        for j in range(num_nodes): # cyclic\n",
    "        # for j in range(i + 1, num_nodes): # acyclic\n",
    "            if random.uniform(0.0, 1.0) < p:\n",
    "                all_edges.append((i, j))\n",
    "\n",
    "    # add edges to graph\n",
    "    for edge in all_edges:\n",
    "        u, v = edge\n",
    "        graph[u].add(v)\n",
    "\n",
    "    return graph"
   ],
   "metadata": {
    "collapsed": false
   }
  },
  {
   "cell_type": "code",
   "execution_count": 53,
   "outputs": [],
   "source": [
    "import sys\n",
    "\n",
    "# generate a random MLP-QBAF and output to a file\n",
    "def generate_and_write_graph(filename, layer_sizes, connection_prob):\n",
    "    with open(filename, 'w') as f:\n",
    "        sys.stdout = f\n",
    "\n",
    "        # generate the node and edge of a graph\n",
    "        random_graph = generate_random_mlp_graph(layer_sizes, connection_prob)\n",
    "\n",
    "        # generate random base scores for arguments\n",
    "        for node, edges in random_graph.items():\n",
    "            random_float = round(random.uniform(0.0, 1.0),2)\n",
    "            print(f\"arg({node}, {random_float}).\")\n",
    "\n",
    "        # generate random polarity for edges\n",
    "        for node, edges in random_graph.items():\n",
    "            for edge in edges:\n",
    "                random_boolean = random.choice([True, False])\n",
    "                if random_boolean:\n",
    "                    print(f\"att({node}, {edge}).\")\n",
    "                else:\n",
    "                    print(f\"sup({node}, {edge}).\")\n",
    "\n",
    "    sys.stdout = sys.__stdout__"
   ],
   "metadata": {
    "collapsed": false
   }
  },
  {
   "cell_type": "code",
   "execution_count": 54,
   "outputs": [],
   "source": [
    "# generate a random MLP\n",
    "# input_dim = 8\n",
    "# output_dim = 1\n",
    "# num_hidden_layer = 2\n",
    "# min_units=64\n",
    "# max_units=64\n",
    "connection_prob=0.75\n",
    "layer_sizes = [8,8,8,8,8]\n",
    "mlp_graph = generate_random_mlp_graph(layer_sizes, connection_prob)\n",
    "\n",
    "print(\"MLP structure:\", layer_sizes)"
   ],
   "metadata": {
    "collapsed": false
   }
  },
  {
   "cell_type": "code",
   "execution_count": 55,
   "outputs": [],
   "source": [
    "# mlp_graph"
   ],
   "metadata": {
    "collapsed": false
   }
  },
  {
   "cell_type": "code",
   "execution_count": 56,
   "outputs": [],
   "source": [
    "N = 100 # generate N QBAFs storing in N files\n",
    "for i in range(N):\n",
    "    filename = f'../../bags/mlp_{i}.bag'\n",
    "    generate_and_write_graph(filename, layer_sizes, connection_prob)"
   ],
   "metadata": {
    "collapsed": false
   }
  }
 ],
 "metadata": {
  "kernelspec": {
   "display_name": "Python 3",
   "language": "python",
   "name": "python3"
  },
  "language_info": {
   "codemirror_mode": {
    "name": "ipython",
    "version": 2
   },
   "file_extension": ".py",
   "mimetype": "text/x-python",
   "name": "python",
   "nbconvert_exporter": "python",
   "pygments_lexer": "ipython2",
   "version": "2.7.6"
  }
 },
 "nbformat": 4,
 "nbformat_minor": 0
}
