{
 "cells": [
  {
   "cell_type": "markdown",
   "source": [
    "### Compute desired orderings"
   ],
   "metadata": {
    "collapsed": false
   }
  },
  {
   "cell_type": "code",
   "execution_count": 432,
   "outputs": [],
   "source": [
    "import random\n",
    "random.seed(1)\n",
    "import sys\n",
    "sys.path.append(\"../../src/\")\n",
    "import uncertainpy.gradual as grad\n",
    "import numpy as np\n",
    "from tqdm import tqdm\n",
    "import time"
   ],
   "metadata": {
    "collapsed": false
   }
  },
  {
   "cell_type": "code",
   "execution_count": 433,
   "outputs": [
    {
     "name": "stdout",
     "output_type": "stream",
     "text": [
      "('0', 0.3799999999999999)\n",
      "('1', 0.19999999999999996)\n",
      "('2', 0.0)\n",
      "('3', 0.28)\n",
      "('4', 0.6000000000000001)\n",
      "('5', 0.88)\n",
      "('6', 0.83)\n",
      "('7', 0.51)\n",
      "('8', 0.9931293674323816)\n",
      "('9', 0.6974160343046287)\n",
      "('10', 0.8709189591317626)\n",
      "('11', 0.6797230199692126)\n",
      "('12', 0.8172379290330771)\n",
      "('13', 0.9894039099374837)\n",
      "('14', 0.2941036449456075)\n",
      "('15', 0.14344438669621074)\n",
      "('16', 0.413193629825814)\n",
      "('17', 0.44513470637319275)\n",
      "('18', 0.589320748600175)\n",
      "('19', 0.0)\n",
      "('20', 0.47105208124257303)\n",
      "('21', 0.19984399200927905)\n",
      "('22', 0.8384354496730594)\n",
      "('23', 0.7522659588988032)\n",
      "('24', 0.49051156539443475)\n",
      "('25', 0.8208204549430622)\n",
      "('26', 0.9489788877298626)\n",
      "('27', 0.671042407950527)\n",
      "('28', 0.3908487258255946)\n",
      "('29', 0.5898714219154544)\n",
      "('30', 0.5300832938770527)\n",
      "('31', 0.5700240665590468)\n",
      "('32', 0.7762843021509616)\n",
      "('33', 0.2887315737662993)\n",
      "('34', 0.4295703332896532)\n",
      "('35', 0.7016808989284933)\n",
      "('36', 0.8888481740710188)\n",
      "('37', 0.7447624338111591)\n",
      "('38', 0.9015794195235514)\n",
      "('39', 0.9600338342685802)\n"
     ]
    }
   ],
   "source": [
    "# obtain a QBAF and set the gradual semantics\n",
    "\n",
    "# Computation via Forward Propagation\n",
    "bag = grad.BAG(\"../../bags/mlp_0.bag\")\n",
    "\n",
    "# # QE\n",
    "# agg_f = grad.semantics.modular.SumAggregation()\n",
    "# inf_f = grad.semantics.modular.QuadraticMaximumInfluence(conservativeness=1)\n",
    "\n",
    "# # DF-QuAD\n",
    "# agg_f = grad.semantics.modular.ProductAggregation()\n",
    "# inf_f = grad.semantics.modular.LinearInfluence(conservativeness=1)\n",
    "\n",
    "# # SD-DF-QUAD\n",
    "# agg_f = grad.semantics.modular.ProductAggregation()\n",
    "# inf_f = grad.semantics.modular.SQDFQUADInfluence(conservativeness=1)\n",
    "\n",
    "# EB\n",
    "agg_f = grad.semantics.modular.SumAggregation()\n",
    "inf_f = grad.semantics.modular.EulerBasedInfluence()\n",
    "\n",
    "# # EBT\n",
    "# agg_f = grad.semantics.modular.TopAggregation()\n",
    "# inf_f = grad.semantics.modular.EulerBasedInfluence()\n",
    "\n",
    "#returns dictionary of strength values if needed\n",
    "strength_values = grad.algorithms.computeStrengthValues(bag, agg_f, inf_f)\n",
    "\n",
    "for arg in bag.arguments.values():\n",
    "    print((arg.name,arg.strength))"
   ],
   "metadata": {
    "collapsed": false
   }
  },
  {
   "cell_type": "code",
   "execution_count": 434,
   "outputs": [],
   "source": [
    "layer_sizes = [8,8,8,8,8]\n",
    "N = 100"
   ],
   "metadata": {
    "collapsed": false
   }
  },
  {
   "cell_type": "code",
   "execution_count": 435,
   "outputs": [],
   "source": [
    "def get_layer_nodes(layer_sizes, layer_index=None):\n",
    "    node_id = 0\n",
    "    for i, size in enumerate(layer_sizes):\n",
    "        if i == layer_index:\n",
    "            return [str(n) for n in range(node_id, node_id + size)]\n",
    "        node_id += size\n",
    "\n",
    "    raise ValueError(f\"Invalid layer_index {layer_index}: must be between 0 and {len(layer_sizes) - 1}\")"
   ],
   "metadata": {
    "collapsed": false
   }
  },
  {
   "cell_type": "code",
   "execution_count": 435,
   "outputs": [],
   "source": [],
   "metadata": {
    "collapsed": false
   }
  },
  {
   "cell_type": "code",
   "execution_count": 436,
   "outputs": [
    {
     "data": {
      "text/plain": "['32', '33', '34', '35', '36', '37', '38', '39']"
     },
     "execution_count": 436,
     "metadata": {},
     "output_type": "execute_result"
    }
   ],
   "source": [
    "preferred_order = get_layer_nodes(layer_sizes, len(layer_sizes)-1)\n",
    "preferred_order"
   ],
   "metadata": {
    "collapsed": false
   }
  },
  {
   "cell_type": "code",
   "execution_count": 437,
   "outputs": [
    {
     "data": {
      "text/plain": "[1.0,\n 0.8571428571428572,\n 0.7142857142857143,\n 0.5714285714285714,\n 0.4285714285714286,\n 0.2857142857142858,\n 0.1428571428571429,\n 0.0]"
     },
     "execution_count": 437,
     "metadata": {},
     "output_type": "execute_result"
    }
   ],
   "source": [
    "preferred_strengths = np.linspace(1, 0, len(preferred_order)).tolist() # for the purpose of comparing kendall\n",
    "preferred_strengths"
   ],
   "metadata": {
    "collapsed": false
   }
  },
  {
   "cell_type": "code",
   "execution_count": 438,
   "outputs": [
    {
     "data": {
      "text/plain": "['24', '25', '26', '27', '28', '29', '30', '31']"
     },
     "execution_count": 438,
     "metadata": {},
     "output_type": "execute_result"
    }
   ],
   "source": [
    "immutable_args = get_layer_nodes(layer_sizes, len(layer_sizes)-2)\n",
    "immutable_args"
   ],
   "metadata": {
    "collapsed": false
   }
  },
  {
   "cell_type": "code",
   "execution_count": 439,
   "outputs": [],
   "source": [
    "# # simple ReLU loss function (linear)\n",
    "# def compute_loss(bag, preferred_order):\n",
    "#     loss = 0\n",
    "#     for i in range(len(preferred_order) - 1):\n",
    "#         loss += max(0, (bag.arguments[preferred_order[i+1]].strength - bag.arguments[preferred_order[i]].strength))\n",
    "#     # print(f\"Loss: {loss}\")\n",
    "#     return loss"
   ],
   "metadata": {
    "collapsed": false
   }
  },
  {
   "cell_type": "code",
   "execution_count": 440,
   "outputs": [],
   "source": [
    "# pairwise smooth logistic loss (quadratic)\n",
    "def compute_loss(bag, preferred_order,delta=0):\n",
    "    loss = 0\n",
    "    # traverse all the pairs in preferred_order, i < j\n",
    "    for i in range(len(preferred_order) - 1):\n",
    "        for j in range(i + 1, len(preferred_order)):\n",
    "            A_i = preferred_order[i]\n",
    "            A_j = preferred_order[j]\n",
    "            # obtain strength σ(A_i) 和 σ(A_j)\n",
    "            sigma_i = bag.arguments[A_i].strength\n",
    "            sigma_j = bag.arguments[A_j].strength\n",
    "            loss += np.log(1 + np.exp(sigma_j - sigma_i + delta))\n",
    "    return loss"
   ],
   "metadata": {
    "collapsed": false
   }
  },
  {
   "cell_type": "code",
   "execution_count": 441,
   "outputs": [],
   "source": [
    "# compute gradient for the loss function\n",
    "def compute_gradient(h, bag, preferred_order):\n",
    "    # h is the perturbation score\n",
    "    gradient = {}\n",
    "    penalty = compute_loss(bag, preferred_order)\n",
    "    for arg in bag.arguments.values():\n",
    "\n",
    "        initial_weight = arg.get_initial_weight() # record initial base score\n",
    "        arg.reset_initial_weight(initial_weight+h) # perturb base scores\n",
    "        grad.algorithms.computeStrengthValues(bag, agg_f, inf_f) # recompute strength with new base score\n",
    "        # for arg in bag.arguments.values():\n",
    "        #     print((arg.name,arg.strength))\n",
    "\n",
    "        new_penalty = compute_loss(bag, preferred_order)\n",
    "        # print(new_penalty)\n",
    "\n",
    "        gradient[arg.name] = (new_penalty-penalty)/h # compute gradient\n",
    "        # print(f\"gradient for argument {arg.name} is {gradient[arg.name]}\")\n",
    "\n",
    "        arg.reset_initial_weight(initial_weight) # set it back to the original base score after computing gradient\n",
    "        grad.algorithms.computeStrengthValues(bag, agg_f, inf_f)\n",
    "        # for arg in bag.arguments.values():\n",
    "        #     print((arg.name,arg.strength))\n",
    "\n",
    "    return gradient"
   ],
   "metadata": {
    "collapsed": false
   }
  },
  {
   "cell_type": "code",
   "execution_count": 442,
   "outputs": [
    {
     "data": {
      "text/plain": "{'0': 0.0077717015045664075,\n '1': -0.0026040751777145488,\n '2': -0.0022694724322036564,\n '3': 0.003474086796018127,\n '4': -0.003174797313931776,\n '5': -0.010935207939155587,\n '6': 0.007223679432399876,\n '7': 0.006722783396639897,\n '8': -0.029334794504620728,\n '9': -0.011687119894077112,\n '10': 0.019133939233029196,\n '11': 0.010557868534988302,\n '12': 0.015230538963351135,\n '13': -0.021686563300704616,\n '14': 0.011876456795789634,\n '15': 0.03240940280591076,\n '16': -0.20721334337281402,\n '17': 0.15574882681335112,\n '18': -0.011131823995924604,\n '19': 0.5608460654116243,\n '20': -0.1164027214173302,\n '21': -0.06469481164117497,\n '22': -0.01585864772835066,\n '23': -0.06230306262011708,\n '24': -0.06719551137734925,\n '25': 0.07333528557751379,\n '26': -0.3543669986783015,\n '27': -0.17193586643315936,\n '28': 0.18490375417457014,\n '29': 0.8821868643593688,\n '30': 0.13402047898125602,\n '31': 1.125280734726175,\n '32': -2.3301771584272046,\n '33': -3.1672148182337874,\n '34': -2.54949380718017,\n '35': -0.44912213894576775,\n '36': 1.5274208791993258,\n '37': 1.7689418196908944,\n '38': 1.9470755365347256,\n '39': 0.7894861091983784}"
     },
     "execution_count": 442,
     "metadata": {},
     "output_type": "execute_result"
    }
   ],
   "source": [
    "h = 10e-6\n",
    "compute_gradient(h, bag, preferred_order)"
   ],
   "metadata": {
    "collapsed": false
   }
  },
  {
   "cell_type": "code",
   "execution_count": 443,
   "outputs": [],
   "source": [
    "# adam optimiser\n",
    "def adam_gradient(name, gradient, m, v, i):\n",
    "\n",
    "    grad = gradient[name]\n",
    "    # Adam optimiser parameters\n",
    "    learning_rate = 0.01  # Initial learning rate\n",
    "    beta1 = 0.9            # First-order moment decay rate\n",
    "    beta2 = 0.999          # Second-order moment decay rate\n",
    "    epsilon = 1e-8         # a small constant\n",
    "\n",
    "    # update first-order moment and second-order moment\n",
    "    m = beta1 * m + (1 - beta1) * grad\n",
    "    v = beta2 * v + (1 - beta2) * (grad ** 2)\n",
    "\n",
    "    # bias correction\n",
    "    m_hat = m / (1 - beta1 ** i)\n",
    "    v_hat = v / (1 - beta2 ** i)\n",
    "\n",
    "    update = learning_rate * m_hat / (np.sqrt(v_hat) + epsilon)\n",
    "\n",
    "    return update, m, v"
   ],
   "metadata": {
    "collapsed": false
   }
  },
  {
   "cell_type": "code",
   "execution_count": 444,
   "outputs": [
    {
     "name": "stdout",
     "output_type": "stream",
     "text": [
      "False\n"
     ]
    }
   ],
   "source": [
    "# if the order is exactly the same as the desired order, then valid otherwise not.\n",
    "def is_valid_order(bag, preferred_order):\n",
    "    strengths = [bag.arguments[name].strength for name in preferred_order]\n",
    "    # print(strengths)\n",
    "    return all(strengths[i] >= strengths[i+1] for i in range(len(strengths)-1))\n",
    "print(is_valid_order(bag, preferred_order))"
   ],
   "metadata": {
    "collapsed": false
   }
  },
  {
   "cell_type": "code",
   "execution_count": 445,
   "outputs": [],
   "source": [
    "from scipy.stats import kendalltau\n",
    "# preferred_strengths = [0.9, 0.60, 0.59] the preferred strength values\n",
    "# predicted_strengths = [0.85, 0.80, 0.79] the computed strength values\n",
    "def compute_kendall(preferred_strengths,predicted_strengths):\n",
    "    tau, _ = kendalltau(preferred_strengths, predicted_strengths)\n",
    "    return tau\n",
    "# compute_kendall(preferred_strengths,predicted_strengths)"
   ],
   "metadata": {
    "collapsed": false
   }
  },
  {
   "cell_type": "code",
   "execution_count": 446,
   "outputs": [
    {
     "name": "stderr",
     "output_type": "stream",
     "text": [
      "100%|██████████| 100/100 [35:22<00:00, 21.23s/it]"
     ]
    },
    {
     "name": "stdout",
     "output_type": "stream",
     "text": [
      "valid:[0, 0, 0, 0, 0, 0, 0, 0, 0, 0, 0, 0, 0, 0, 0, 0, 0, 0, 0, 0, 0, 0, 0, 0, 0, 0, 0, 0, 0, 0, 0, 0, 0, 0, 0, 0, 0, 0, 0, 0, 0, 0, 0, 0, 0, 0, 0, 0, 0, 0, 0, 0, 0, 0, 0, 0, 0, 0, 0, 0, 0, 0, 0, 0, 0, 0, 0, 0, 0, 0, 0, 0, 0, 0, 0, 0, 0, 0, 0, 0, 0, 0, 0, 0, 0, 0, 0, 0, 0, 0, 0, 0, 0, 0, 0, 0, 0, 0, 0, 0]\n",
      "kendall:[-0.6428571428571428, 0.4999999999999999, 0.14285714285714285, 0.0, -0.3571428571428571, 0.0, -0.21428571428571427, 0.07142857142857142, 0.07142857142857142, 0.21428571428571427, -0.21428571428571427, 0.7142857142857142, 0.21428571428571427, 0.07142857142857142, 0.21428571428571427, -0.07142857142857142, 0.2857142857142857, 0.07142857142857142, -0.2857142857142857, 0.3571428571428571, 0.2857142857142857, 0.3571428571428571, 0.2857142857142857, -0.42857142857142855, 0.3571428571428571, 0.07142857142857142, -0.21428571428571427, -0.07142857142857142, 0.2857142857142857, -0.07142857142857142, -0.3571428571428571, 0.21428571428571427, -0.3571428571428571, 0.6428571428571428, 0.14285714285714285, -0.21428571428571427, 0.5714285714285714, -0.14285714285714285, 0.7857142857142856, -0.21428571428571427, 0.4999999999999999, 0.07142857142857142, 0.0, 0.14285714285714285, -0.42857142857142855, 0.2857142857142857, -0.4999999999999999, 0.14285714285714285, 0.5455447255899809, 0.5714285714285714, 0.07142857142857142, -0.4999999999999999, 0.42857142857142855, -0.14285714285714285, -0.21428571428571427, 0.4999999999999999, 0.4999999999999999, -0.14285714285714285, 0.14285714285714285, 0.2857142857142857, -0.14285714285714285, -0.07142857142857142, 0.0, 0.21428571428571427, -0.2857142857142857, 0.14285714285714285, 0.07142857142857142, 0.21428571428571427, 0.07142857142857142, 0.07142857142857142, 0.21428571428571427, -0.14285714285714285, 0.0, 0.2857142857142857, -0.07142857142857142, -0.42857142857142855, 0.07142857142857142, 0.2857142857142857, 0.14285714285714285, 0.21428571428571427, -0.42857142857142855, 0.21428571428571427, -0.14285714285714285, 0.036369648372665396, -0.14285714285714285, 0.2857142857142857, 0.14285714285714285, -0.07142857142857142, 0.14285714285714285, 0.42857142857142855, -0.3571428571428571, -0.07142857142857142, -0.2857142857142857, 0.32732683535398854, 0.21428571428571427, -0.14285714285714285, 0.0, 0.14285714285714285, 0.21428571428571427, 0.6428571428571428]\n",
      "valid_avg:0.0\n",
      "kendall_avg:0.07337812637888064\n",
      "runtime:21.227142939567567\n"
     ]
    },
    {
     "name": "stderr",
     "output_type": "stream",
     "text": [
      "\n"
     ]
    }
   ],
   "source": [
    "# test the validity for N MLP-like QBAFs\n",
    "\n",
    "time_total = [0] * N\n",
    "valid = [0] * N\n",
    "kendall = [0] * N\n",
    "for i in tqdm(range(N)):\n",
    "    start = time.time()\n",
    "    filename = f'../../bags/mlp_{i}.bag'\n",
    "    bag = grad.BAG(filename)\n",
    "    m = {}\n",
    "    v = {}\n",
    "    for epoch in range(1, 1001):\n",
    "\n",
    "\n",
    "        # print(f\"Epoch:{epoch}\")\n",
    "        # compute gradient for all arguments\n",
    "        gradient = compute_gradient(10e-6, bag, preferred_order)\n",
    "        # print(f\"gradient:{gradient}\")\n",
    "        if all(value == 0 for value in gradient.values()): break\n",
    "\n",
    "        # update Adam state and update base scores\n",
    "        for arg in bag.arguments.values():\n",
    "            if arg.name not in immutable_args:\n",
    "                if arg.name not in m:\n",
    "                    m[arg.name] = 0\n",
    "                    v[arg.name] = 0\n",
    "\n",
    "\n",
    "                current_weight = arg.get_initial_weight()\n",
    "                adam_update, m[arg.name], v[arg.name] = adam_gradient(arg.name, gradient, m[arg.name], v[arg.name], epoch)\n",
    "                new_weight = current_weight - adam_update\n",
    "                new_weight = max(0, min(1, new_weight))\n",
    "                arg.reset_initial_weight(new_weight)\n",
    "\n",
    "\n",
    "        # recompute the strength and penalty\n",
    "        grad.algorithms.computeStrengthValues(bag, agg_f, inf_f)\n",
    "        if is_valid_order(bag, preferred_order): break\n",
    "    if is_valid_order(bag, preferred_order):\n",
    "        valid[i] = 1\n",
    "    predicted_strengths = [bag.arguments[name].strength for name in preferred_order]\n",
    "    kendall[i] = compute_kendall(preferred_strengths,predicted_strengths)\n",
    "    end = time.time()\n",
    "    time_total[i] = end-start\n",
    "\n",
    "\n",
    "print(f\"valid:{valid}\")\n",
    "print(f\"kendall:{kendall}\")\n",
    "print(f\"valid_avg:{sum(valid)/N}\")\n",
    "print(f\"kendall_avg:{sum(kendall)/N}\")\n",
    "print(f\"runtime:{sum(time_total)/N}\")"
   ],
   "metadata": {
    "collapsed": false
   }
  },
  {
   "cell_type": "code",
   "execution_count": 447,
   "outputs": [],
   "source": [
    "# for i in range(len(valid)):\n",
    "#     if valid[i]==0:\n",
    "#         print(i)"
   ],
   "metadata": {
    "collapsed": false
   }
  }
 ],
 "metadata": {
  "kernelspec": {
   "display_name": "Python 3",
   "language": "python",
   "name": "python3"
  },
  "language_info": {
   "codemirror_mode": {
    "name": "ipython",
    "version": 2
   },
   "file_extension": ".py",
   "mimetype": "text/x-python",
   "name": "python",
   "nbconvert_exporter": "python",
   "pygments_lexer": "ipython2",
   "version": "2.7.6"
  }
 },
 "nbformat": 4,
 "nbformat_minor": 0
}
